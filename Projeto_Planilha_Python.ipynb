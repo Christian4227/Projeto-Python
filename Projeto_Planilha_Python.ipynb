{
  "nbformat": 4,
  "nbformat_minor": 0,
  "metadata": {
    "colab": {
      "name": "Análise de dados - Sites web",
      "provenance": [],
      "toc_visible": true,
      "authorship_tag": "ABX9TyO4m0qmlM8FRQdbGyVoA/4X",
      "include_colab_link": true
    },
    "kernelspec": {
      "name": "python3",
      "display_name": "Python 3"
    }
  },
  "cells": [
    {
      "cell_type": "markdown",
      "metadata": {
        "id": "view-in-github",
        "colab_type": "text"
      },
      "source": [
        "<a href=\"https://colab.research.google.com/github/Christian4227/Projeto-Python/blob/main/Projeto_Planilha_Python.ipynb\" target=\"_parent\"><img src=\"https://colab.research.google.com/assets/colab-badge.svg\" alt=\"Open In Colab\"/></a>"
      ]
    },
    {
      "cell_type": "code",
      "metadata": {
        "id": "CkXZ1CN9lCBw"
      },
      "source": [
        "import pandas as pd\n",
        "import numpy as np"
      ],
      "execution_count": 1,
      "outputs": []
    },
    {
      "cell_type": "code",
      "metadata": {
        "colab": {
          "base_uri": "https://localhost:8080/"
        },
        "id": "uP36iYUjL3H_",
        "outputId": "2dadc101-1f74-44d0-dfaf-fc46064f239c"
      },
      "source": [
        "receita = []\n",
        "gastos = []\n",
        "\n",
        "while True:\n",
        "  print(\"Digite s ou S para sair das entradas\")\n",
        "  soma = 0\n",
        "  while True:\n",
        "    entr_receita = input(\"Digite os valores da sua receita. \")\n",
        "    if entr_receita == \"s\" or entr_receita == \"S\":\n",
        "      break\n",
        "    else:\n",
        "      soma = soma + float(entr_receita)\n",
        "  receita.append(soma)\n",
        "  while True:\n",
        "    entr_gastos = input(\"Digite os valores dos seus gastos. \")\n",
        "    if entr_gastos == \"s\" or entr_gastos == \"S\":\n",
        "      break\n",
        "    else:\n",
        "      soma = soma + float(entr_gastos)\n",
        "  gastos.append(soma)\n",
        "  coluna = \"Gastos Receita\".split()\n",
        "  dados = {\"Receita\": receita, \"Gastos\": gastos}\n",
        "  df = pd.DataFrame(dados)\n",
        "  print(df)\n",
        "  break\n",
        "      \n"
      ],
      "execution_count": 5,
      "outputs": [
        {
          "output_type": "stream",
          "text": [
            "Digite s ou S para sair das entradas\n",
            "Digite os valores da sua receita. 20\n",
            "Digite os valores da sua receita. 30\n",
            "Digite os valores da sua receita. s\n",
            "Digite os valores dos seus gastos. 50\n",
            "Digite os valores dos seus gastos. 60\n",
            "Digite os valores dos seus gastos. s\n",
            "   Receita  Gastos\n",
            "0     50.0   160.0\n"
          ],
          "name": "stdout"
        }
      ]
    },
    {
      "cell_type": "code",
      "metadata": {
        "id": "dGndt65_Iu6f"
      },
      "source": [
        ""
      ],
      "execution_count": 4,
      "outputs": []
    }
  ]
}